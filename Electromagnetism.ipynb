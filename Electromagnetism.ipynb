{
 "cells": [
  {
   "cell_type": "markdown",
   "id": "fe923d4c",
   "metadata": {},
   "source": [
    "# ELECTROMAGNETISM MODEL"
   ]
  },
  {
   "cell_type": "code",
   "execution_count": null,
   "id": "fdc5f73d",
   "metadata": {},
   "outputs": [],
   "source": [
    "#Importing the libraries and the datasets \n",
    "import pandas as pd\n",
    "import matplotlib.pyplot as plt\n",
    "import numpy as np\n",
    "from sklearn.neural_network import MLPClassifier\n",
    "from sklearn.metrics import classification_report\n",
    "from sklearn.neighbors import KNeighborsClassifier\n",
    "from sklearn.preprocessing import StandardScaler\n",
    "from sklearn.model_selection import RandomizedSearchCV\n",
    "from sklearn.model_selection import GridSearchCV\n",
    "from sklearn.metrics import  make_scorer, f1_score\n",
    "from imblearn.over_sampling import RandomOverSampler\n",
    "# import warnings filter\n",
    "from warnings import simplefilter\n",
    "# ignore all future warnings\n",
    "simplefilter(action='ignore', category=FutureWarning)\n",
    "df_X_train = pd.read_csv(\"X_train_em.csv\")\n",
    "df_X_test = pd.read_csv(\"X_test_em.csv\")\n",
    "df_y_train = pd.read_csv(\"y_train_em.csv\")\n",
    "df_y_test = pd.read_csv(\"y_test_em.csv\")\n",
    "df_y_test = df_y_test.astype(int)\n",
    "df_y_train = df_y_train.astype(int)\n",
    "\n",
    "#Transforming to csv creates an index column (Unnamed: 0) which need to be dropped\n",
    "df_X_train.drop(columns=['Unnamed: 0'], inplace=True)\n",
    "df_X_test.drop(columns=['Unnamed: 0'], inplace=True)\n",
    "df_y_test.drop(columns=['Unnamed: 0'], inplace=True)\n",
    "df_y_train.drop(columns=['Unnamed: 0'], inplace=True)\n",
    "\n",
    "#Transforming the data\n",
    "y_train = np.ravel(df_y_train)\n",
    "y_test = np.ravel(df_y_test)"
   ]
  },
  {
   "cell_type": "code",
   "execution_count": null,
   "id": "d4b8523e",
   "metadata": {},
   "outputs": [],
   "source": [
    "#Count the values for each class \n",
    "df_y_train['Electromagnetism'].value_counts()\n",
    "# Example class counts\n",
    "class_counts = [739,1361]"
   ]
  },
  {
   "cell_type": "code",
   "execution_count": null,
   "id": "9230e346",
   "metadata": {},
   "outputs": [],
   "source": [
    "#Scaling the data\n",
    "scaler = StandardScaler()\n",
    "scaler.fit(df_X_train)\n",
    "X_train_scaler = scaler.transform(df_X_train)\n",
    "X_test_scaler = scaler.transform(df_X_test)"
   ]
  },
  {
   "cell_type": "code",
   "execution_count": null,
   "id": "00712ce3",
   "metadata": {},
   "outputs": [],
   "source": [
    "#Getting a first set of predictions to use for the evaluation metrics\n",
    "#Selecting the number of neurons by the rule of thumb: 2/3 of inputs(X) + outputs(y) = 27\n",
    "mlp = MLPClassifier(random_state = 7)\n",
    "mlp.fit(X_train_scaler,y_train)\n",
    "y_pred = mlp.predict(X_test_scaler)\n",
    "print(classification_report(y_test, y_pred,target_names=['FAIL','PASS']))"
   ]
  },
  {
   "cell_type": "code",
   "execution_count": null,
   "id": "903ade0b",
   "metadata": {},
   "outputs": [],
   "source": [
    "#Using GridSearchCV to get finer results for the hyperparameters\n",
    "#First GridSearch revolves around the rule-of-thumb value for the size of neurons in the hidden layer\n",
    "mlp_gs = MLPClassifier()\n",
    "hyperparams = {\n",
    "    'hidden_layer_sizes' : [(10,),(15,),(20,),(25,),(30,)],\n",
    "    'activation': ['tanh','relu','logistic'],\n",
    "    'solver': ['adam','sgd'],\n",
    "    'alpha': [0.000001],\n",
    "    'learning_rate_init': [0.00001,0.0001,0.001],\n",
    "    'max_iter' : [1000],\n",
    "    'early_stopping' : [True],\n",
    "    'random_state' : [7]\n",
    "}\n",
    "\n",
    "#Adjust the positive values to prioritize the outcome where the student fails\n",
    "scorer = make_scorer(f1_score, pos_label = 0)\n",
    "\n",
    "gs = GridSearchCV(\n",
    "    estimator = mlp_gs,\n",
    "    param_grid = hyperparams,\n",
    "    cv = 5, \n",
    "    scoring = scorer,\n",
    "    return_train_score = True\n",
    ")\n",
    "\n",
    "gs.fit(X_train_scaler,y_train)"
   ]
  },
  {
   "cell_type": "code",
   "execution_count": null,
   "id": "d9797905",
   "metadata": {},
   "outputs": [],
   "source": [
    "#Second GridSearch is used for a wider range and test if the rule-of-thumb is efficient for this case\n",
    "mlp_gs = MLPClassifier()\n",
    "hyperparams = {\n",
    "    'hidden_layer_sizes' : [(700,),(725,),(750,),(775,),(800,)],\n",
    "    'activation': ['relu','tanh'],\n",
    "    'solver': ['adam'],\n",
    "    'alpha': [0.000001],\n",
    "    'learning_rate_init': [0.00001, 0.0001],\n",
    "    'max_iter' : [1000],\n",
    "    'early_stopping' : [True],\n",
    "    'random_state' : [7]\n",
    "}\n",
    "\n",
    "#Adjust the positive values to prioritize the outcome where the student fails\n",
    "scorer = make_scorer(f1_score, pos_label = 0)\n",
    "\n",
    "gs = GridSearchCV(\n",
    "    estimator = mlp_gs,\n",
    "    param_grid = hyperparams,\n",
    "    cv = 5, \n",
    "    scoring = scorer,\n",
    "    return_train_score = True\n",
    ")\n",
    "\n",
    "gs.fit(X_train_scaler,y_train)"
   ]
  },
  {
   "cell_type": "code",
   "execution_count": null,
   "id": "fddb5a98",
   "metadata": {},
   "outputs": [],
   "source": [
    "res = pd.DataFrame(gs.cv_results_)\n",
    "res_sorted = res.sort_values(by='rank_test_score',ascending=True)\n",
    "res_sorted\n",
    "res_sorted_top = res_sorted[['param_activation','param_alpha','param_hidden_layer_sizes','param_learning_rate_init','param_solver','mean_test_score']].head()\n",
    "res_sorted_top['f1_score'] = [0.62,0.64,0.63,0.62,0.59]\n",
    "\n",
    "res_sorted_top['mean_test_score'] = res_sorted_top['mean_test_score'].round(3)\n",
    "res_sorted_top"
   ]
  },
  {
   "cell_type": "code",
   "execution_count": null,
   "id": "c24d4bf2",
   "metadata": {},
   "outputs": [],
   "source": [
    "#Creating a model with the optimized hyperparameters\n",
    "mlp_optimized = MLPClassifier(activation = 'relu',alpha= 0.000001,early_stopping= True,hidden_layer_sizes= (800,),learning_rate_init= 0.00001,max_iter= 1000,random_state = 7,solver= 'adam')\n",
    "mlp_optimized.fit(X_train_scaler,y_train)\n",
    "y_pred = mlp_optimized.predict(X_test_scaler)\n",
    "print(classification_report(y_test, y_pred,target_names=['FAIL','PASS']))"
   ]
  },
  {
   "cell_type": "code",
   "execution_count": null,
   "id": "ced6a262",
   "metadata": {},
   "outputs": [],
   "source": [
    "#Performing the over-sampling technique on training data\n",
    "#Creating new variables for the training data to test as a comparison\n",
    "ros = RandomOverSampler(random_state=0)\n",
    "X_resampled, y_resampled = ros.fit_resample(X_train_scaler, y_train)"
   ]
  },
  {
   "cell_type": "code",
   "execution_count": null,
   "id": "e522ccad",
   "metadata": {},
   "outputs": [],
   "source": [
    "#Checking if the new balanced data is optimized on different hyperparameters\n",
    "mlp_gs_res = MLPClassifier()\n",
    "hyperparams = {\n",
    "    'hidden_layer_sizes' : [(30,),(50,),(150,),(250,),(500,),(750,),(1000,)],\n",
    "    'activation': ['tanh','relu','logistic'],\n",
    "    'solver': ['adam','sgd'],\n",
    "    'alpha': [0.000001],\n",
    "    'learning_rate_init': [0.00001,0.0001,0.001],\n",
    "    'max_iter' : [1000],\n",
    "    'early_stopping' : [True],\n",
    "    'random_state' : [7]\n",
    "}\n",
    "\n",
    "#Adjust the positive values to prioritize the outcome where the student fails\n",
    "scorer = make_scorer(f1_score, pos_label = 0)\n",
    "\n",
    "gs = GridSearchCV(\n",
    "    estimator = mlp_gs_res,\n",
    "    param_grid = hyperparams,\n",
    "    cv = 5, \n",
    "    scoring = scorer,\n",
    "    return_train_score = True\n",
    ")\n",
    "\n",
    "gs.fit(X_resampled,y_resampled)"
   ]
  },
  {
   "cell_type": "code",
   "execution_count": null,
   "id": "d4c6301a",
   "metadata": {},
   "outputs": [],
   "source": [
    "res = pd.DataFrame(gs.cv_results_)\n",
    "res_sorted = res.sort_values(by='rank_test_score',ascending=True)\n",
    "res_sorted\n",
    "res_sorted_top = res_sorted[['param_activation','param_alpha','param_hidden_layer_sizes','param_learning_rate_init','param_solver','mean_test_score']].head()\n",
    "res_sorted_top['f1_score'] = [0.61,0.62,0.62,0.60,0.63]\n",
    "\n",
    "res_sorted_top['mean_test_score'] = res_sorted_top['mean_test_score'].round(3)\n",
    "res_sorted_top"
   ]
  },
  {
   "cell_type": "code",
   "execution_count": null,
   "id": "83a3b6c2",
   "metadata": {},
   "outputs": [],
   "source": [
    "#Creating a model with the optimized hyperparameters\n",
    "mlp_resampled = MLPClassifier(activation = 'tanh',alpha= 0.00001,early_stopping= True,hidden_layer_sizes= (250,),learning_rate_init= 0.0001,random_state = 7,max_iter= 1000,solver= 'adam')\n",
    "mlp_resampled.fit(X_resampled,y_resampled)\n",
    "y_pred = mlp_resampled.predict(X_test_scaler)\n",
    "print(classification_report(y_test, y_pred,target_names=['FAIL','PASS']))"
   ]
  },
  {
   "cell_type": "code",
   "execution_count": null,
   "id": "8edafb7b",
   "metadata": {},
   "outputs": [],
   "source": [
    "#Using alternative method for comparison - KNeighbors\n",
    "#This method is set to default values since this is not the technique being studied in this project.\n",
    "kn = KNeighborsClassifier()\n",
    "kn.fit(X_train_scaler,y_train)\n",
    "y_pred_kn = kn.predict(X_test_scaler)\n",
    "print(classification_report(y_test, y_pred_kn,target_names=['FAIL','PASS']))"
   ]
  },
  {
   "cell_type": "code",
   "execution_count": null,
   "id": "8f6e5c93",
   "metadata": {},
   "outputs": [],
   "source": [
    "#GridSearchCV for KNeighbors\n",
    "#Using GridSearchCV to get finer results for the hyperparameters\n",
    "kn = KNeighborsClassifier()\n",
    "param = {\n",
    "    'n_neighbors' : [3,5,7,9,11,13,15,17,19,21,23,25,27,29,31]\n",
    "}\n",
    "\n",
    "#Adjust the positive values to prioritize the outcome where the student fails\n",
    "scorer = make_scorer(f1_score, pos_label = 0)\n",
    "\n",
    "gs_kn = GridSearchCV(\n",
    "    estimator = kn,\n",
    "    param_grid = param,\n",
    "    cv = 5, \n",
    "    scoring = scorer,\n",
    "    return_train_score = True\n",
    ")\n",
    "\n",
    "gs_kn.fit(X_train_scaler,y_train)"
   ]
  },
  {
   "cell_type": "code",
   "execution_count": null,
   "id": "cc3bf6f6",
   "metadata": {},
   "outputs": [],
   "source": [
    "res_kn = pd.DataFrame(gs_kn.cv_results_)\n",
    "res_sorted_kn = res_kn.sort_values(by='rank_test_score',ascending=True)\n",
    "res_sorted_kn = res_sorted_kn[['param_n_neighbors','mean_train_score']].head()\n",
    "res_sorted_kn['f1_score'] = [0.49,0.47,0.48,0.45,0.45]\n",
    "res_sorted_kn['mean_train_score'] = res_sorted_kn['mean_train_score'].round(3)\n",
    "res_sorted_kn"
   ]
  },
  {
   "cell_type": "code",
   "execution_count": null,
   "id": "e5afa08c",
   "metadata": {},
   "outputs": [],
   "source": [
    "#Optimized model for KNeighbors\n",
    "kn = KNeighborsClassifier(n_neighbors = 7)\n",
    "kn.fit(X_train_scaler,y_train)\n",
    "y_pred_kn = kn.predict(X_test_scaler)\n",
    "print(classification_report(y_test, y_pred_kn,target_names=['FAIL','PASS']))"
   ]
  },
  {
   "cell_type": "code",
   "execution_count": null,
   "id": "af7a346b",
   "metadata": {},
   "outputs": [],
   "source": []
  }
 ],
 "metadata": {
  "kernelspec": {
   "display_name": "Python 3 (ipykernel)",
   "language": "python",
   "name": "python3"
  },
  "language_info": {
   "codemirror_mode": {
    "name": "ipython",
    "version": 3
   },
   "file_extension": ".py",
   "mimetype": "text/x-python",
   "name": "python",
   "nbconvert_exporter": "python",
   "pygments_lexer": "ipython3",
   "version": "3.9.13"
  }
 },
 "nbformat": 4,
 "nbformat_minor": 5
}
