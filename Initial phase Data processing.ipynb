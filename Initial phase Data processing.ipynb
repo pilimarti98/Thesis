{
 "cells": [
  {
   "cell_type": "markdown",
   "id": "c21d080e",
   "metadata": {},
   "source": [
    "# INITIAL PHASE DATA"
   ]
  },
  {
   "cell_type": "code",
   "execution_count": 83,
   "id": "27701d42",
   "metadata": {},
   "outputs": [],
   "source": [
    "import pandas as pd\n",
    "import numpy as np\n",
    "\n",
    "read_file = pd.read_excel ('qfaseini19.xlsx')\n",
    "read_file.to_csv ('qfaseini19.csv', index = None, header=True) #Files to read\n",
    "dfini = pd.read_csv('qfaseini19.csv') #Initial phase csv file\n",
    "\n",
    "#CLEAN THE DATA - First steps\n",
    "#Order the data frame by the year and semester\n",
    "dfini = dfini.sort_values(by=['CURS', 'QUAD'], ascending=[True, True])\n",
    "\n",
    "#Filter per students of industrial engineering\n",
    "dfindus = dfini.loc[dfini['CODI_PROGRAMA'] == 752]\n",
    "\n",
    "#Pivoted table with the last grade obtained by each student\n",
    "dfindus_clean = dfindus[['CODI_EXPEDIENT','CODI_UPC_UD','NOTA_NUM_DEF']]\n",
    "dfini_last = dfindus_clean.pivot_table(index='CODI_EXPEDIENT',columns='CODI_UPC_UD',values='NOTA_NUM_DEF', aggfunc='last')\n",
    "dfini_last = dfini_last.dropna()\n",
    "dfini_last.columns = ['Algebra Last','Calculus I Last','Fundamental physics Last','Chemistry I Last','Fundamental computer science Last','Geometry Last','Calculus II Last','Fundamental thermodynamics Last','Chemistry II Last','Graphic expression Last']\n",
    "dfini_last.columns\n",
    "\n",
    "#Pivoting with the number of times a student has taken a subject\n",
    "dfini_times = dfindus_clean.pivot_table(index='CODI_EXPEDIENT',columns='CODI_UPC_UD',values='NOTA_NUM_DEF', aggfunc=\"count\")\n",
    "dfini_times = dfini_times.dropna()\n",
    "dfini_times.columns = ['Times taken Algebra','Times taken Calculus I','Times taken Fundamental physics','Times taken Chemistry I','Times taken Fundamental computer science','Times taken Geometry','Times taken Calculus II','Times taken Fundamental thermodynamics','Times taken Chemistry II','Times taken Graphic expression']\n",
    "dfini_times.head()\n",
    "\n",
    "#Create an average of all the grades of the initial phase\n",
    "dfindus_clean = dfindus[['CODI_EXPEDIENT','CODI_UPC_UD','NOTA_NUM_DEF']]\n",
    "dfini_average = dfindus_clean.pivot_table(index='CODI_EXPEDIENT',columns='CODI_UPC_UD',values='NOTA_NUM_DEF', aggfunc='mean')\n",
    "dfini_average = dfini_average.dropna()\n",
    "dfini_average.columns = ['Average Algebra','Average Calculus I','Average Fundamental physics','Average Chemistry I','Average Fundamental computer science','Average Geometry','Average Calculus II','Average Fundamental thermodynamics','Average Chemistry II','Average Graphic expression']\n",
    "dfini_average.head()\n",
    "\n",
    "#Crear fitxer csv amb dades filtrades\n",
    "dfini_last.to_csv(\"last_initial.csv\")\n",
    "dfini_times.to_csv(\"times_initial.csv\")\n",
    "dfini_average.to_csv(\"average_initial.csv\")"
   ]
  }
 ],
 "metadata": {
  "kernelspec": {
   "display_name": "Python 3 (ipykernel)",
   "language": "python",
   "name": "python3"
  },
  "language_info": {
   "codemirror_mode": {
    "name": "ipython",
    "version": 3
   },
   "file_extension": ".py",
   "mimetype": "text/x-python",
   "name": "python",
   "nbconvert_exporter": "python",
   "pygments_lexer": "ipython3",
   "version": "3.9.13"
  }
 },
 "nbformat": 4,
 "nbformat_minor": 5
}
