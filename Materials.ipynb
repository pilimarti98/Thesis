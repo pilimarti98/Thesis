{
 "cells": [
  {
   "cell_type": "markdown",
   "id": "b28406f3",
   "metadata": {},
   "source": [
    "# MATERIALS MODEL"
   ]
  },
  {
   "cell_type": "code",
   "execution_count": null,
   "id": "384e1dc8",
   "metadata": {},
   "outputs": [],
   "source": [
    "#Importing the libraries and the datasets \n",
    "import matplotlib.pyplot as plt\n",
    "import pandas as pd\n",
    "import numpy as np\n",
    "from sklearn.neural_network import MLPClassifier\n",
    "from sklearn.metrics import classification_report\n",
    "from sklearn.neighbors import KNeighborsClassifier\n",
    "from sklearn.preprocessing import StandardScaler\n",
    "from sklearn.model_selection import RandomizedSearchCV\n",
    "from sklearn.model_selection import GridSearchCV\n",
    "from sklearn.metrics import make_scorer, f1_score\n",
    "from imblearn.over_sampling import RandomOverSampler\n",
    "# import warnings filter\n",
    "from warnings import simplefilter\n",
    "# ignore all future warnings\n",
    "simplefilter(action='ignore', category=FutureWarning)\n",
    "df_X_train = pd.read_csv(\"X_train_mat.csv\")\n",
    "df_X_test = pd.read_csv(\"X_test_mat.csv\")\n",
    "df_y_train = pd.read_csv(\"y_train_mat.csv\")\n",
    "df_y_test = pd.read_csv(\"y_test_mat.csv\")\n",
    "df_y_test = df_y_test.astype(int)\n",
    "df_y_train = df_y_train.astype(int)\n",
    "\n",
    "#Transforming to csv creates an index column (Unnamed: 0) which need to be dropped\n",
    "df_X_train.drop(columns=['Unnamed: 0'], inplace=True)\n",
    "df_X_test.drop(columns=['Unnamed: 0'], inplace=True)\n",
    "df_y_test.drop(columns=['Unnamed: 0'], inplace=True)\n",
    "df_y_train.drop(columns=['Unnamed: 0'], inplace=True)\n",
    "\n",
    "#Transforming the data\n",
    "y_train = np.ravel(df_y_train)\n",
    "y_test = np.ravel(df_y_test)"
   ]
  },
  {
   "cell_type": "code",
   "execution_count": null,
   "id": "f5a1af12",
   "metadata": {},
   "outputs": [],
   "source": [
    "#Count the values for each class \n",
    "df_y_train['Materials'].value_counts()\n",
    "# Example class counts\n",
    "class_counts = [727, 1373] "
   ]
  },
  {
   "cell_type": "code",
   "execution_count": null,
   "id": "d061bc9a",
   "metadata": {},
   "outputs": [],
   "source": [
    "#Scaling the data\n",
    "scaler = StandardScaler()\n",
    "scaler.fit(df_X_train)\n",
    "X_train_scaler = scaler.transform(df_X_train)\n",
    "X_test_scaler = scaler.transform(df_X_test)"
   ]
  },
  {
   "cell_type": "code",
   "execution_count": null,
   "id": "2bd3a0e1",
   "metadata": {},
   "outputs": [],
   "source": [
    "#Getting a first set of predictions to use for the evaluation metrics\n",
    "#Selecting the number of neurons by the rule of thumb: 2/3 of inputs(X) + outputs(y) = 31\n",
    "mlp = MLPClassifier(random_state = 7)\n",
    "mlp.fit(X_train_scaler,y_train)\n",
    "y_pred = mlp.predict(X_test_scaler)\n",
    "print(classification_report(y_test, y_pred,target_names=['FAIL','PASS']))"
   ]
  },
  {
   "cell_type": "code",
   "execution_count": null,
   "id": "8d32d038",
   "metadata": {},
   "outputs": [],
   "source": [
    "#Using GridSearchCV to get finer results for the hyperparameters\n",
    "#First GridSearch revolves around the rule-of-thumb value for the size of neurons in the hidden layer\n",
    "mlp_gs = MLPClassifier()\n",
    "hyperparams = {\n",
    "    'hidden_layer_sizes' : [(10,),(15,),(20,),(25,),(30,)],\n",
    "    'activation': ['tanh','relu','logistic'],\n",
    "    'solver': ['adam','sgd'],\n",
    "    'alpha': [0.000001],\n",
    "    'learning_rate_init': [0.00001,0.0001,0.001],\n",
    "    'max_iter' : [1000],\n",
    "    'early_stopping' : [True],\n",
    "    'random_state' : [7]\n",
    "}\n",
    "\n",
    "#Adjust the positive values to prioritize the outcome where the student fails\n",
    "scorer = make_scorer(f1_score, pos_label = 0)\n",
    "\n",
    "gs = GridSearchCV(\n",
    "    estimator = mlp_gs,\n",
    "    param_grid = hyperparams,\n",
    "    cv = 5, \n",
    "    scoring = scorer,\n",
    "    return_train_score = True\n",
    ")\n",
    "\n",
    "gs.fit(X_train_scaler,y_train)"
   ]
  },
  {
   "cell_type": "code",
   "execution_count": null,
   "id": "8deaabd4",
   "metadata": {},
   "outputs": [],
   "source": [
    "#Second GridSearch is used for a wider range and test if the rule-of-thumb is efficient for this case\n",
    "mlp_gs = MLPClassifier()\n",
    "hyperparams = {\n",
    "    'hidden_layer_sizes' : [(50,),(100,),(250,),(500,),(750,),(1000,)],\n",
    "    'activation': ['logistic', 'relu','tanh'],\n",
    "    'solver': ['adam', 'sgd'],\n",
    "    'alpha': [0.000001],\n",
    "    'learning_rate_init': [0.00001, 0.0001,0.001],\n",
    "    'max_iter' : [1000],\n",
    "    'early_stopping' : [True],\n",
    "    'random_state' : [7]\n",
    "}\n",
    "\n",
    "#Adjust the positive values to prioritize the outcome where the student fails\n",
    "scorer = make_scorer(f1_score, pos_label = 0)\n",
    "\n",
    "gs = GridSearchCV(\n",
    "    estimator = mlp_gs,\n",
    "    param_grid = hyperparams,\n",
    "    cv = 5, \n",
    "    scoring = scorer,\n",
    "    return_train_score = True\n",
    ")\n",
    "\n",
    "gs.fit(X_train_scaler,y_train)"
   ]
  },
  {
   "cell_type": "code",
   "execution_count": null,
   "id": "8b83c9e0",
   "metadata": {},
   "outputs": [],
   "source": [
    "res = pd.DataFrame(gs.cv_results_)\n",
    "res_sorted = res.sort_values(by='rank_test_score',ascending=True)\n",
    "res_sorted\n",
    "res_sorted_top = res_sorted[['param_activation','param_alpha','param_hidden_layer_sizes','param_learning_rate_init','param_solver','mean_test_score']].head()\n",
    "res_sorted_top['f1_score'] = [0.56,0.56,0.56,0.59,0.53]\n",
    "\n",
    "res_sorted_top['mean_test_score'] = res_sorted_top['mean_test_score'].round(3)\n",
    "res_sorted_top"
   ]
  },
  {
   "cell_type": "code",
   "execution_count": null,
   "id": "34ccb6a1",
   "metadata": {},
   "outputs": [],
   "source": [
    "#Creating a model with the optimized hyperparameters\n",
    "mlp_optimized = MLPClassifier(activation = 'logistic',alpha = 0.000001,early_stopping = True,hidden_layer_sizes = (20,),learning_rate_init = 0.0001, max_iter= 1000, random_state = 7, solver= 'adam')\n",
    "mlp_optimized.fit(X_train_scaler,y_train)\n",
    "y_pred = mlp_optimized.predict(X_test_scaler)\n",
    "print(classification_report(y_test, y_pred,target_names=['FAIL','PASS']))"
   ]
  },
  {
   "cell_type": "code",
   "execution_count": null,
   "id": "9b62e9de",
   "metadata": {},
   "outputs": [],
   "source": [
    "#Performing the over-sampling technique on training data\n",
    "#Creating new variables for the training data to test as a comparison\n",
    "ros = RandomOverSampler(random_state=0)\n",
    "X_resampled, y_resampled = ros.fit_resample(X_train_scaler, y_train)"
   ]
  },
  {
   "cell_type": "code",
   "execution_count": null,
   "id": "491a71fb",
   "metadata": {},
   "outputs": [],
   "source": [
    "#Using GridSearchCV to get finer results for the hyperparameters\n",
    "mlp_gs = MLPClassifier()\n",
    "hyperparams = {\n",
    "    'hidden_layer_sizes' : [(250,),(500,),(750,)],\n",
    "    'activation': ['relu'],\n",
    "    'solver': ['adam', 'sgd'],\n",
    "    'alpha': [0.000001,0.00001,0.0001],\n",
    "    'learning_rate_init': [0.001],\n",
    "    'max_iter' : [1000],\n",
    "    'early_stopping' : [True],\n",
    "    'random_state' : [7]\n",
    "}\n",
    "\n",
    "#Adjust the positive values to prioritize the outcome where the student fails\n",
    "scorer = make_scorer(f1_score, pos_label = 0)\n",
    "\n",
    "gs = GridSearchCV(\n",
    "    estimator = mlp_gs,\n",
    "    param_grid = hyperparams,\n",
    "    cv = 5, \n",
    "    scoring = scorer,\n",
    "    return_train_score = True\n",
    ")\n",
    "\n",
    "gs.fit(X_resampled,y_resampled)"
   ]
  },
  {
   "cell_type": "code",
   "execution_count": null,
   "id": "81c30456",
   "metadata": {},
   "outputs": [],
   "source": [
    "res = pd.DataFrame(gs.cv_results_)\n",
    "res_sorted = res.sort_values(by='rank_test_score',ascending=True)\n",
    "res_sorted\n",
    "res_sorted_top = res_sorted[['param_activation','param_alpha','param_hidden_layer_sizes','param_learning_rate_init','param_solver','mean_test_score']].head()\n",
    "res_sorted_top['f1_score'] = [0.58,0.58,0.57,0.61,0.61]\n",
    "\n",
    "res_sorted_top['mean_test_score'] = res_sorted_top['mean_test_score'].round(3)\n",
    "res_sorted_top"
   ]
  },
  {
   "cell_type": "code",
   "execution_count": null,
   "id": "394ed277",
   "metadata": {},
   "outputs": [],
   "source": [
    "#Creating a model with the optimized hyperparameters\n",
    "mlp_resampled = MLPClassifier(activation = 'relu',alpha = 0.0001,early_stopping = True,hidden_layer_sizes = (500,),learning_rate_init = 0.001, max_iter= 1000, random_state = 7, solver= 'adam')\n",
    "mlp_resampled.fit(X_resampled,y_resampled)\n",
    "y_pred = mlp_resampled.predict(X_test_scaler)\n",
    "print(classification_report(y_test, y_pred,target_names=['FAIL','PASS']))"
   ]
  },
  {
   "cell_type": "code",
   "execution_count": null,
   "id": "a791b46e",
   "metadata": {},
   "outputs": [],
   "source": [
    "#Using alternative method for comparison - KNeighbors\n",
    "#This method is set to default values since this is not the technique being studied in this project.\n",
    "kn = KNeighborsClassifier()\n",
    "kn.fit(X_train_scaler,y_train)\n",
    "y_pred_kn = kn.predict(X_test_scaler)\n",
    "print(classification_report(y_test, y_pred_kn,target_names=['FAIL','PASS']))"
   ]
  },
  {
   "cell_type": "code",
   "execution_count": null,
   "id": "3baa17fc",
   "metadata": {},
   "outputs": [],
   "source": [
    "#GridSearchCV for KNeighbors\n",
    "#Using GridSearchCV to get finer results for the hyperparameters\n",
    "kn = KNeighborsClassifier()\n",
    "param = {\n",
    "    'n_neighbors' : [3,5,7,9,11,13,15,17,19,21,23,25,27,29,31]\n",
    "}\n",
    "\n",
    "#Adjust the positive values to prioritize the outcome where the student fails\n",
    "scorer = make_scorer(f1_score, pos_label = 0)\n",
    "\n",
    "gs_kn = GridSearchCV(\n",
    "    estimator = kn,\n",
    "    param_grid = param,\n",
    "    cv = 5, \n",
    "    scoring = scorer,\n",
    "    return_train_score = True\n",
    ")\n",
    "\n",
    "gs_kn.fit(X_train_scaler,y_train)"
   ]
  },
  {
   "cell_type": "code",
   "execution_count": null,
   "id": "b7412e5b",
   "metadata": {},
   "outputs": [],
   "source": [
    "res_kn = pd.DataFrame(gs_kn.cv_results_)\n",
    "res_sorted_kn = res_kn.sort_values(by='rank_test_score',ascending=True)\n",
    "res_sorted_kn = res_sorted_kn[['param_n_neighbors','mean_train_score']].head()\n",
    "res_sorted_kn['f1_score'] = [0.43,0.43,0.42,0.40,0.41]\n",
    "res_sorted_kn['mean_train_score'] = res_sorted_kn['mean_train_score'].round(3)\n",
    "res_sorted_kn"
   ]
  },
  {
   "cell_type": "code",
   "execution_count": null,
   "id": "e9ac043b",
   "metadata": {},
   "outputs": [],
   "source": [
    "#Optimized model for KNeighbors\n",
    "kn = KNeighborsClassifier(n_neighbors = 3)\n",
    "kn.fit(X_train_scaler,y_train)\n",
    "y_pred_kn = kn.predict(X_test_scaler)\n",
    "print(classification_report(y_test, y_pred_kn,target_names=['FAIL','PASS']))"
   ]
  },
  {
   "cell_type": "code",
   "execution_count": null,
   "id": "47e58b49",
   "metadata": {},
   "outputs": [],
   "source": []
  }
 ],
 "metadata": {
  "kernelspec": {
   "display_name": "Python 3 (ipykernel)",
   "language": "python",
   "name": "python3"
  },
  "language_info": {
   "codemirror_mode": {
    "name": "ipython",
    "version": 3
   },
   "file_extension": ".py",
   "mimetype": "text/x-python",
   "name": "python",
   "nbconvert_exporter": "python",
   "pygments_lexer": "ipython3",
   "version": "3.9.13"
  }
 },
 "nbformat": 4,
 "nbformat_minor": 5
}
