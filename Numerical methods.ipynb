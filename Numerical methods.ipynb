{
 "cells": [
  {
   "cell_type": "markdown",
   "id": "60a31ebf",
   "metadata": {},
   "source": [
    "# NUMERICAL METHODS MODEL"
   ]
  },
  {
   "cell_type": "code",
   "execution_count": null,
   "id": "c7b43d90",
   "metadata": {},
   "outputs": [],
   "source": [
    "#Importing the libraries and the datasets \n",
    "import matplotlib.pyplot as plt\n",
    "import pandas as pd\n",
    "import numpy as np\n",
    "from sklearn.neural_network import MLPClassifier\n",
    "from sklearn.metrics import classification_report\n",
    "from sklearn.neighbors import KNeighborsClassifier\n",
    "from sklearn.preprocessing import StandardScaler\n",
    "from sklearn.model_selection import RandomizedSearchCV\n",
    "from sklearn.model_selection import GridSearchCV\n",
    "from sklearn.metrics import make_scorer, f1_score\n",
    "from imblearn.over_sampling import RandomOverSampler\n",
    "# import warnings filter\n",
    "from warnings import simplefilter\n",
    "# ignore all future warnings\n",
    "simplefilter(action='ignore', category=FutureWarning)\n",
    "df_X_train = pd.read_csv(\"X_train_nm.csv\")\n",
    "df_X_test = pd.read_csv(\"X_test_nm.csv\")\n",
    "df_y_train = pd.read_csv(\"y_train_nm.csv\")\n",
    "df_y_test = pd.read_csv(\"y_test_nm.csv\")\n",
    "df_y_test = df_y_test.astype(int)\n",
    "df_y_train = df_y_train.astype(int)\n",
    "\n",
    "#Transforming to csv creates an index column (Unnamed: 0) which need to be dropped\n",
    "df_X_train.drop(columns=['Unnamed: 0'], inplace=True)\n",
    "df_X_test.drop(columns=['Unnamed: 0'], inplace=True)\n",
    "df_y_test.drop(columns=['Unnamed: 0'], inplace=True)\n",
    "df_y_train.drop(columns=['Unnamed: 0'], inplace=True)\n",
    "\n",
    "#Transforming the data\n",
    "y_train = np.ravel(df_y_train)\n",
    "y_test = np.ravel(df_y_test)"
   ]
  },
  {
   "cell_type": "code",
   "execution_count": null,
   "id": "06d9f7be",
   "metadata": {},
   "outputs": [],
   "source": [
    "#Count the values for each class \n",
    "df_y_train['Numerical methods'].value_counts()\n",
    "# Example class counts\n",
    "class_counts = [248, 1852]"
   ]
  },
  {
   "cell_type": "code",
   "execution_count": null,
   "id": "886772f0",
   "metadata": {},
   "outputs": [],
   "source": [
    "#Scaling the data\n",
    "scaler = StandardScaler()\n",
    "scaler.fit(df_X_train)\n",
    "X_train_scaler = scaler.transform(df_X_train)\n",
    "X_test_scaler = scaler.transform(df_X_test)"
   ]
  },
  {
   "cell_type": "code",
   "execution_count": null,
   "id": "6921e390",
   "metadata": {},
   "outputs": [],
   "source": [
    "#Getting a first set of predictions to use for the evaluation metrics\n",
    "#Selecting the number of neurons by the rule of thumb: 2/3 of inputs(X) + outputs(y) = 31\n",
    "mlp = MLPClassifier(random_state=7)\n",
    "mlp.fit(X_train_scaler,y_train)\n",
    "y_pred = mlp.predict(X_test_scaler)\n",
    "print(classification_report(y_test, y_pred,target_names=['FAIL','PASS']))"
   ]
  },
  {
   "cell_type": "code",
   "execution_count": null,
   "id": "44b82bf4",
   "metadata": {},
   "outputs": [],
   "source": [
    "#Using GridSearchCV to get finer results for the hyperparameters\n",
    "#First GridSearch revolves around the rule-of-thumb value for the size of neurons in the hidden layer\n",
    "mlp_gs = MLPClassifier()\n",
    "hyperparams = {\n",
    "    'hidden_layer_sizes' : [(10,),(15,),(20,),(25,),(30,)],\n",
    "    'activation': ['tanh','relu','logistic'],\n",
    "    'solver': ['adam','sgd'],\n",
    "    'alpha': [0.000001],\n",
    "    'learning_rate_init': [0.00001,0.0001,0.001],\n",
    "    'max_iter' : [1000],\n",
    "    'early_stopping' : [True],\n",
    "    'random_state' : [7]\n",
    "}\n",
    "\n",
    "#Adjust the positive values to prioritize the outcome where the student fails\n",
    "scorer = make_scorer(f1_score, pos_label = 0)\n",
    "\n",
    "gs = GridSearchCV(\n",
    "    estimator = mlp_gs,\n",
    "    param_grid = hyperparams,\n",
    "    cv = 5, \n",
    "    scoring = scorer,\n",
    "    return_train_score = True\n",
    ")\n",
    "\n",
    "gs.fit(X_train_scaler,y_train)"
   ]
  },
  {
   "cell_type": "code",
   "execution_count": null,
   "id": "ee397730",
   "metadata": {},
   "outputs": [],
   "source": [
    "#Second GridSearch is used for a wider range and test if the rule-of-thumb is efficient for this case\n",
    "mlp_gs = MLPClassifier()\n",
    "hyperparams = {\n",
    "    'hidden_layer_sizes' : [(450,),(475,),(500,),(525,),(550,)],\n",
    "    'activation': ['tanh'],\n",
    "    'solver': ['sgd'],\n",
    "    'alpha': [0.000001],\n",
    "    'learning_rate_init': [0.00001, 0.0001],\n",
    "    'max_iter' : [1000],\n",
    "    'early_stopping' : [True],\n",
    "    'random_state' : [7]\n",
    "}\n",
    "\n",
    "#Adjust the positive values to prioritize the outcome where the student fails\n",
    "scorer = make_scorer(f1_score, pos_label = 0)\n",
    "\n",
    "gs = GridSearchCV(\n",
    "    estimator = mlp_gs,\n",
    "    param_grid = hyperparams,\n",
    "    cv = 5, \n",
    "    scoring = scorer,\n",
    "    return_train_score = True\n",
    ")\n",
    "\n",
    "gs.fit(X_train_scaler,y_train)"
   ]
  },
  {
   "cell_type": "code",
   "execution_count": null,
   "id": "7dad67f2",
   "metadata": {},
   "outputs": [],
   "source": [
    "res = pd.DataFrame(gs.cv_results_)\n",
    "res_sorted = res.sort_values(by='rank_test_score',ascending=True)\n",
    "res_sorted\n",
    "res_sorted_top = res_sorted[['param_activation','param_alpha','param_hidden_layer_sizes','param_learning_rate_init','param_solver','mean_test_score']].head()\n",
    "res_sorted_top['f1_score'] = [0.23,0.3,0.31,0.29,0.27]\n",
    "\n",
    "res_sorted_top['mean_test_score'] = res_sorted_top['mean_test_score'].round(3)\n",
    "res_sorted_top"
   ]
  },
  {
   "cell_type": "code",
   "execution_count": null,
   "id": "d8c2ee9e",
   "metadata": {},
   "outputs": [],
   "source": [
    "#Creating a model with the optimized hyperparameters\n",
    "mlp_optimized = MLPClassifier(activation = 'tanh',alpha = 0.000001,early_stopping = True,hidden_layer_sizes = (450,),learning_rate_init = 0.0001, max_iter= 1000, random_state = 7, solver= 'sgd')\n",
    "mlp_optimized.fit(X_train_scaler,y_train)\n",
    "y_pred = mlp_optimized.predict(X_test_scaler)\n",
    "print(classification_report(y_test, y_pred,target_names=['FAIL','PASS']))"
   ]
  },
  {
   "cell_type": "code",
   "execution_count": null,
   "id": "200826db",
   "metadata": {},
   "outputs": [],
   "source": [
    "#Performing the over-sampling technique on training data\n",
    "#Creating new variables for the training data to test as a comparison\n",
    "ros = RandomOverSampler(random_state=0)\n",
    "X_resampled, y_resampled = ros.fit_resample(X_train_scaler, y_train)"
   ]
  },
  {
   "cell_type": "code",
   "execution_count": null,
   "id": "906269dc",
   "metadata": {},
   "outputs": [],
   "source": [
    "#Checking if the new balanced data is optimized on different hyperparameters\n",
    "mlp_gs_res = MLPClassifier()\n",
    "hyperparams = {\n",
    "    'hidden_layer_sizes' : [(30,),(50,), (100,), (250,),(500,),(750,),(1000,)],\n",
    "    'activation': ['logistic', 'relu','tanh'],\n",
    "    'solver': ['adam', 'sgd'],\n",
    "    'alpha': [0.000001,0.00001,0.0001],\n",
    "    'learning_rate_init': [0.00001, 0.0001,0.001],\n",
    "    'max_iter' : [1000],\n",
    "    'early_stopping' : [True],\n",
    "    'random_state' : [7]\n",
    "}\n",
    "\n",
    "#Adjust the positive values to prioritize the outcome where the student fails\n",
    "scorer = make_scorer(f1_score, pos_label = 0)\n",
    "\n",
    "gs = GridSearchCV(\n",
    "    estimator = mlp_gs_res,\n",
    "    param_grid = hyperparams,\n",
    "    cv = 5, \n",
    "    scoring = scorer,\n",
    "    return_train_score = True\n",
    ")\n",
    "\n",
    "gs.fit(X_resampled,y_resampled)"
   ]
  },
  {
   "cell_type": "code",
   "execution_count": null,
   "id": "abed1481",
   "metadata": {},
   "outputs": [],
   "source": [
    "res = pd.DataFrame(gs.cv_results_)\n",
    "res_sorted = res.sort_values(by='rank_test_score',ascending=True)\n",
    "res_sorted\n",
    "res_sorted_top = res_sorted[['param_activation','param_alpha','param_hidden_layer_sizes','param_learning_rate_init','param_solver','mean_test_score']].head()\n",
    "res_sorted_top['f1_score'] = [0.24,0.25,0.24,0.24,0.25]\n",
    "\n",
    "res_sorted_top['mean_test_score'] = res_sorted_top['mean_test_score'].round(3)\n",
    "res_sorted_top"
   ]
  },
  {
   "cell_type": "code",
   "execution_count": null,
   "id": "3aa1628d",
   "metadata": {},
   "outputs": [],
   "source": [
    "#Creating a model with the optimized hyperparameters\n",
    "mlp_resampled = MLPClassifier(activation = 'relu',alpha = 0.00001,early_stopping = True,hidden_layer_sizes = (750,),learning_rate_init = 0.001, max_iter= 1000, random_state = 7, solver= 'adam')\n",
    "mlp_resampled.fit(X_resampled,y_resampled)\n",
    "y_pred = mlp_resampled.predict(X_test_scaler)\n",
    "print(classification_report(y_test, y_pred,target_names=['FAIL','PASS']))"
   ]
  },
  {
   "cell_type": "code",
   "execution_count": null,
   "id": "25903329",
   "metadata": {},
   "outputs": [],
   "source": [
    "#Using alternative method for comparison - KNeighbors\n",
    "#This method is set to default values since this is not the technique being studied in this project.\n",
    "kn = KNeighborsClassifier()\n",
    "kn.fit(X_train_scaler,y_train)\n",
    "y_pred_kn = kn.predict(X_test_scaler)\n",
    "print(classification_report(y_test, y_pred_kn,target_names=['FAIL','PASS']))"
   ]
  },
  {
   "cell_type": "code",
   "execution_count": null,
   "id": "9ece3630",
   "metadata": {},
   "outputs": [],
   "source": [
    "#GridSearchCV for KNeighbors\n",
    "#Using GridSearchCV to get finer results for the hyperparameters\n",
    "kn = KNeighborsClassifier()\n",
    "param = {\n",
    "    'n_neighbors' : [3,5,7,9,11,13,15,17,19,21,23,25,27,29,31]\n",
    "}\n",
    "\n",
    "#Adjust the positive values to prioritize the outcome where the student fails\n",
    "scorer = make_scorer(f1_score, pos_label = 0)\n",
    "\n",
    "gs_kn = GridSearchCV(\n",
    "    estimator = kn,\n",
    "    param_grid = param,\n",
    "    cv = 5, \n",
    "    scoring = scorer,\n",
    "    return_train_score = True\n",
    ")\n",
    "\n",
    "gs_kn.fit(X_train_scaler,y_train)"
   ]
  },
  {
   "cell_type": "code",
   "execution_count": null,
   "id": "03bd0832",
   "metadata": {},
   "outputs": [],
   "source": [
    "res_kn = pd.DataFrame(gs_kn.cv_results_)\n",
    "res_sorted_kn = res_kn.sort_values(by='rank_test_score',ascending=True)\n",
    "res_sorted_kn = res_sorted_kn[['param_n_neighbors','mean_train_score']].head()\n",
    "res_sorted_kn['f1_score'] = [0.23,0.25,0.24,0.25,0.27]\n",
    "res_sorted_kn['mean_train_score'] = res_sorted_kn['mean_train_score'].round(3)\n",
    "res_sorted_kn.head()"
   ]
  },
  {
   "cell_type": "code",
   "execution_count": null,
   "id": "d7198e8e",
   "metadata": {},
   "outputs": [],
   "source": [
    "#Optimized model for KNeighbors\n",
    "kn = KNeighborsClassifier(n_neighbors = 13)\n",
    "kn.fit(X_resampled,y_resampled)\n",
    "y_pred_kn = kn.predict(X_test_scaler)\n",
    "print(classification_report(y_test, y_pred_kn,target_names=['FAIL','PASS']))"
   ]
  },
  {
   "cell_type": "code",
   "execution_count": null,
   "id": "589807fd",
   "metadata": {},
   "outputs": [],
   "source": []
  }
 ],
 "metadata": {
  "kernelspec": {
   "display_name": "Python 3 (ipykernel)",
   "language": "python",
   "name": "python3"
  },
  "language_info": {
   "codemirror_mode": {
    "name": "ipython",
    "version": 3
   },
   "file_extension": ".py",
   "mimetype": "text/x-python",
   "name": "python",
   "nbconvert_exporter": "python",
   "pygments_lexer": "ipython3",
   "version": "3.9.13"
  }
 },
 "nbformat": 4,
 "nbformat_minor": 5
}
