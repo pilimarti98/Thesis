{
 "cells": [
  {
   "cell_type": "markdown",
   "id": "dbc2463e",
   "metadata": {},
   "source": [
    "# PREREGISTRATION DATA"
   ]
  },
  {
   "cell_type": "code",
   "execution_count": 22,
   "id": "5b277a37",
   "metadata": {},
   "outputs": [
    {
     "data": {
      "text/html": [
       "<div>\n",
       "<style scoped>\n",
       "    .dataframe tbody tr th:only-of-type {\n",
       "        vertical-align: middle;\n",
       "    }\n",
       "\n",
       "    .dataframe tbody tr th {\n",
       "        vertical-align: top;\n",
       "    }\n",
       "\n",
       "    .dataframe thead th {\n",
       "        text-align: right;\n",
       "    }\n",
       "</style>\n",
       "<table border=\"1\" class=\"dataframe\">\n",
       "  <thead>\n",
       "    <tr style=\"text-align: right;\">\n",
       "      <th></th>\n",
       "      <th>CODI_EXPEDIENT</th>\n",
       "      <th>NOTA_ACCES_NORM</th>\n",
       "    </tr>\n",
       "  </thead>\n",
       "  <tbody>\n",
       "    <tr>\n",
       "      <th>0</th>\n",
       "      <td>354327</td>\n",
       "      <td>0.744546</td>\n",
       "    </tr>\n",
       "    <tr>\n",
       "      <th>1</th>\n",
       "      <td>355957</td>\n",
       "      <td>0.626866</td>\n",
       "    </tr>\n",
       "    <tr>\n",
       "      <th>2</th>\n",
       "      <td>354396</td>\n",
       "      <td>0.795178</td>\n",
       "    </tr>\n",
       "    <tr>\n",
       "      <th>3</th>\n",
       "      <td>353722</td>\n",
       "      <td>0.846843</td>\n",
       "    </tr>\n",
       "    <tr>\n",
       "      <th>4</th>\n",
       "      <td>353747</td>\n",
       "      <td>0.615385</td>\n",
       "    </tr>\n",
       "    <tr>\n",
       "      <th>5</th>\n",
       "      <td>353798</td>\n",
       "      <td>0.765098</td>\n",
       "    </tr>\n",
       "  </tbody>\n",
       "</table>\n",
       "</div>"
      ],
      "text/plain": [
       "   CODI_EXPEDIENT  NOTA_ACCES_NORM\n",
       "0          354327         0.744546\n",
       "1          355957         0.626866\n",
       "2          354396         0.795178\n",
       "3          353722         0.846843\n",
       "4          353747         0.615385\n",
       "5          353798         0.765098"
      ]
     },
     "execution_count": 22,
     "metadata": {},
     "output_type": "execute_result"
    }
   ],
   "source": [
    "import pandas as pd\n",
    "import numpy as np\n",
    "\n",
    "read_file = pd.read_excel ('dpersnomespreins19esc.xlsx')\n",
    "read_file.to_csv ('dpersnomespreins19esc.csv', index = None, header=True)\n",
    "dfpre = pd.read_csv('dpersnomespreins19esc.csv') #Dades prèvies \n",
    "\n",
    "dfpre['CODI_EXPEDIENT'].unique() #Cada estudiant té un valor propi, no es repeteixen\n",
    "dfpre['SEXE'].unique() #Només hi ha dos valors possibles (D/H)\n",
    "dfpre['CP_FAMILIAR'].unique() #Masses valors diferents per a agrupar, columna innecessària\n",
    "dfpre['ANY_ACCES'].unique() #Rang de valors de 2010 a 2018\n",
    "dfpre['TIPUS_ACCES'].unique() #Es tracta d'un únic valor (1), columna innecessària\n",
    "dfpre['CENTRE_SECUNDARIA'].unique() #499 valors únics\n",
    "dfpre['CP_CENTRE_SEC'].unique() #Masses valors diferents per a agrupar, columna innecessària\n",
    "\n",
    "#Clean any grade missing values\n",
    "dfpre['NOTA_ACCES'].isnull().sum() #No values\n",
    "\n",
    "#Normalitzar Notes Acces\n",
    "#Cal normalitzar ja que els rangs poden variar ja entre les notes de la selectivitat i les notes de Fase Inicial / No Inicial\n",
    "dfpre['NOTA_ACCES_NORM'] = (dfpre['NOTA_ACCES'] - dfpre['NOTA_ACCES'].min()) / (dfpre['NOTA_ACCES'].max() - dfpre['NOTA_ACCES'].min())\n",
    "\n",
    "#Eliminar duplicats\n",
    "dfpre[dfpre['CODI_EXPEDIENT'].duplicated() == True] #Three duplicated values were found\n",
    "\n",
    "#Eliminate unnecessary columns\n",
    "dfpre_clean = dfpre.drop(columns=['CP_FAMILIAR','TIPUS_ACCES','CP_CENTRE_SEC','CENTRE_SECUNDARIA','SEXE','ANY_ACCES','NOTA_ACCES'])\n",
    "\n",
    "#Crear fitxer csv amb dades filtrades\n",
    "dfpre_clean.to_csv(\"dpersnomespreins19esc_net.csv\")\n",
    "dfpre_clean.head(6)"
   ]
  }
 ],
 "metadata": {
  "kernelspec": {
   "display_name": "Python 3 (ipykernel)",
   "language": "python",
   "name": "python3"
  },
  "language_info": {
   "codemirror_mode": {
    "name": "ipython",
    "version": 3
   },
   "file_extension": ".py",
   "mimetype": "text/x-python",
   "name": "python",
   "nbconvert_exporter": "python",
   "pygments_lexer": "ipython3",
   "version": "3.9.13"
  }
 },
 "nbformat": 4,
 "nbformat_minor": 5
}
